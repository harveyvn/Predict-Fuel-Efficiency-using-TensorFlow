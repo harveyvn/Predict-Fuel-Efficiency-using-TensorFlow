{
  "nbformat": 4,
  "nbformat_minor": 0,
  "metadata": {
    "kernelspec": {
      "language": "python",
      "display_name": "Python 3",
      "name": "python3"
    },
    "language_info": {
      "pygments_lexer": "ipython3",
      "nbconvert_exporter": "python",
      "version": "3.6.4",
      "file_extension": ".py",
      "codemirror_mode": {
        "name": "ipython",
        "version": 3
      },
      "name": "python",
      "mimetype": "text/x-python"
    },
    "colab": {
      "name": "notebook.ipynb",
      "provenance": [],
      "toc_visible": true
    }
  },
  "cells": [
    {
      "cell_type": "code",
      "metadata": {
        "_uuid": "8f2839f25d086af736a60e9eeb907d3b93b6e0e5",
        "_cell_guid": "b1076dfc-b9ad-4769-8c92-a6c4dae69d19",
        "scrolled": true,
        "execution": {
          "iopub.status.busy": "2021-10-18T15:35:23.589558Z",
          "iopub.execute_input": "2021-10-18T15:35:23.589926Z",
          "iopub.status.idle": "2021-10-18T15:35:23.597527Z",
          "shell.execute_reply.started": "2021-10-18T15:35:23.589886Z",
          "shell.execute_reply": "2021-10-18T15:35:23.596230Z"
        },
        "trusted": true,
        "id": "TkbxaalX2wjt"
      },
      "source": [
        "# This Python 3 environment comes with many helpful analytics libraries installed\n",
        "# It is defined by the kaggle/python Docker image: https://github.com/kaggle/docker-python\n",
        "# For example, here's several helpful packages to load\n",
        "\n",
        "import numpy as np # linear algebra\n",
        "import pandas as pd # data processing, CSV file I/O (e.g. pd.read_csv)\n",
        "\n",
        "# Input data files are available in the read-only \"../input/\" directory\n",
        "# For example, running this (by clicking run or pressing Shift+Enter) will list all files under the input directory\n",
        "\n",
        "import os\n",
        "for dirname, _, filenames in os.walk('/kaggle/input'):\n",
        "    for filename in filenames:\n",
        "        print(os.path.join(dirname, filename))\n",
        "\n",
        "# You can write up to 20GB to the current directory (/kaggle/working/) that gets preserved as output when you create a version using \"Save & Run All\" \n",
        "# You can also write temporary files to /kaggle/temp/, but they won't be saved outside of the current session"
      ],
      "execution_count": 20,
      "outputs": []
    },
    {
      "cell_type": "code",
      "metadata": {
        "execution": {
          "iopub.status.busy": "2021-10-18T15:35:23.599821Z",
          "iopub.execute_input": "2021-10-18T15:35:23.600114Z",
          "iopub.status.idle": "2021-10-18T15:35:23.616974Z",
          "shell.execute_reply.started": "2021-10-18T15:35:23.600079Z",
          "shell.execute_reply": "2021-10-18T15:35:23.615887Z"
        },
        "trusted": true,
        "colab": {
          "base_uri": "https://localhost:8080/"
        },
        "id": "kS4qg3j72wjy",
        "outputId": "9bc76d96-109e-481d-9a20-562b91ea7d0a"
      },
      "source": [
        "!pip install category_encoders\n",
        "\n",
        "import matplotlib.pyplot as plt\n",
        "import seaborn as sns\n",
        "\n",
        "# Make NumPy printouts easier to read.\n",
        "np.set_printoptions(precision=3, suppress=True)\n",
        "# Turn off the warning altogether\n",
        "pd.set_option('mode.chained_assignment',None)"
      ],
      "execution_count": 21,
      "outputs": [
        {
          "output_type": "stream",
          "name": "stdout",
          "text": [
            "Requirement already satisfied: category_encoders in /usr/local/lib/python3.7/dist-packages (2.3.0)\n",
            "Requirement already satisfied: scipy>=1.0.0 in /usr/local/lib/python3.7/dist-packages (from category_encoders) (1.4.1)\n",
            "Requirement already satisfied: numpy>=1.14.0 in /usr/local/lib/python3.7/dist-packages (from category_encoders) (1.19.5)\n",
            "Requirement already satisfied: statsmodels>=0.9.0 in /usr/local/lib/python3.7/dist-packages (from category_encoders) (0.10.2)\n",
            "Requirement already satisfied: patsy>=0.5.1 in /usr/local/lib/python3.7/dist-packages (from category_encoders) (0.5.2)\n",
            "Requirement already satisfied: pandas>=0.21.1 in /usr/local/lib/python3.7/dist-packages (from category_encoders) (1.1.5)\n",
            "Requirement already satisfied: scikit-learn>=0.20.0 in /usr/local/lib/python3.7/dist-packages (from category_encoders) (0.22.2.post1)\n",
            "Requirement already satisfied: python-dateutil>=2.7.3 in /usr/local/lib/python3.7/dist-packages (from pandas>=0.21.1->category_encoders) (2.8.2)\n",
            "Requirement already satisfied: pytz>=2017.2 in /usr/local/lib/python3.7/dist-packages (from pandas>=0.21.1->category_encoders) (2018.9)\n",
            "Requirement already satisfied: six in /usr/local/lib/python3.7/dist-packages (from patsy>=0.5.1->category_encoders) (1.15.0)\n",
            "Requirement already satisfied: joblib>=0.11 in /usr/local/lib/python3.7/dist-packages (from scikit-learn>=0.20.0->category_encoders) (1.0.1)\n"
          ]
        }
      ]
    },
    {
      "cell_type": "code",
      "metadata": {
        "execution": {
          "iopub.status.busy": "2021-10-18T15:35:23.618670Z",
          "iopub.execute_input": "2021-10-18T15:35:23.618975Z",
          "iopub.status.idle": "2021-10-18T15:35:23.630761Z",
          "shell.execute_reply.started": "2021-10-18T15:35:23.618939Z",
          "shell.execute_reply": "2021-10-18T15:35:23.630114Z"
        },
        "trusted": true,
        "colab": {
          "base_uri": "https://localhost:8080/"
        },
        "id": "F_FCGfWO2wjz",
        "outputId": "eb2db2c6-f544-4c77-f4c7-e0246416564c"
      },
      "source": [
        "import tensorflow as tf\n",
        "\n",
        "from tensorflow import keras\n",
        "from tensorflow.keras import layers\n",
        "\n",
        "print(tf.__version__)"
      ],
      "execution_count": 22,
      "outputs": [
        {
          "output_type": "stream",
          "name": "stdout",
          "text": [
            "2.6.0\n"
          ]
        }
      ]
    },
    {
      "cell_type": "markdown",
      "metadata": {
        "id": "UaLONARc2wjz"
      },
      "source": [
        "Visualize the model's training progress"
      ]
    },
    {
      "cell_type": "code",
      "metadata": {
        "execution": {
          "iopub.status.busy": "2021-10-18T15:35:23.632259Z",
          "iopub.execute_input": "2021-10-18T15:35:23.632519Z",
          "iopub.status.idle": "2021-10-18T15:35:23.644760Z",
          "shell.execute_reply.started": "2021-10-18T15:35:23.632487Z",
          "shell.execute_reply": "2021-10-18T15:35:23.643759Z"
        },
        "trusted": true,
        "id": "slZLPUoE2wj1"
      },
      "source": [
        "def plot_loss(history):\n",
        "  plt.plot(history.history['loss'], label='loss')\n",
        "  plt.plot(history.history['val_loss'], label='val_loss')\n",
        "  plt.ylim([0, 10])\n",
        "  plt.xlabel('Epoch')\n",
        "  plt.ylabel('Error [MPG]')\n",
        "  plt.legend()\n",
        "  plt.grid(True)"
      ],
      "execution_count": 23,
      "outputs": []
    },
    {
      "cell_type": "markdown",
      "metadata": {
        "id": "eLn3R12S2wj2"
      },
      "source": [
        "# The Auto MPG dataset\n",
        "The dataset is available from the UCI [Machine Learning Repository](http://archive.ics.uci.edu/ml/machine-learning-databases/auto-mpg/auto-mpg.data).\n",
        "\n",
        "## Get the data\n",
        "First download and import the dataset using pandas:"
      ]
    },
    {
      "cell_type": "code",
      "metadata": {
        "execution": {
          "iopub.status.busy": "2021-10-18T15:35:23.647757Z",
          "iopub.execute_input": "2021-10-18T15:35:23.648223Z",
          "iopub.status.idle": "2021-10-18T15:35:24.363207Z",
          "shell.execute_reply.started": "2021-10-18T15:35:23.648174Z",
          "shell.execute_reply": "2021-10-18T15:35:24.361692Z"
        },
        "trusted": true,
        "colab": {
          "base_uri": "https://localhost:8080/",
          "height": 204
        },
        "id": "o1Wu_Hm52wj2",
        "outputId": "df98a31c-1096-4ae1-99a5-bae26974969e"
      },
      "source": [
        "import numpy as np\n",
        "\n",
        "url = \"http://archive.ics.uci.edu/ml/machine-learning-databases/auto-mpg/auto-mpg.data\"\n",
        "names = [\"mpg\", \"cylinders\", \"displacement\", \"horsepower\", \"weight\",\"acceleration\", \"model year\", \"origin\", \"car name\"]\n",
        "widths = [7, 4, 10, 10, 11, 7, 4, 4, 30]\n",
        "\n",
        "# Get the data\n",
        "X_full = pd.read_fwf(url, names=names, widths=widths, na_values=['?'])\n",
        "X = X_full.copy()\n",
        "X.tail()"
      ],
      "execution_count": 24,
      "outputs": [
        {
          "output_type": "execute_result",
          "data": {
            "text/html": [
              "<div>\n",
              "<style scoped>\n",
              "    .dataframe tbody tr th:only-of-type {\n",
              "        vertical-align: middle;\n",
              "    }\n",
              "\n",
              "    .dataframe tbody tr th {\n",
              "        vertical-align: top;\n",
              "    }\n",
              "\n",
              "    .dataframe thead th {\n",
              "        text-align: right;\n",
              "    }\n",
              "</style>\n",
              "<table border=\"1\" class=\"dataframe\">\n",
              "  <thead>\n",
              "    <tr style=\"text-align: right;\">\n",
              "      <th></th>\n",
              "      <th>mpg</th>\n",
              "      <th>cylinders</th>\n",
              "      <th>displacement</th>\n",
              "      <th>horsepower</th>\n",
              "      <th>weight</th>\n",
              "      <th>acceleration</th>\n",
              "      <th>model year</th>\n",
              "      <th>origin</th>\n",
              "      <th>car name</th>\n",
              "    </tr>\n",
              "  </thead>\n",
              "  <tbody>\n",
              "    <tr>\n",
              "      <th>393</th>\n",
              "      <td>27.0</td>\n",
              "      <td>4</td>\n",
              "      <td>140.0</td>\n",
              "      <td>86.0</td>\n",
              "      <td>2790.0</td>\n",
              "      <td>15.6</td>\n",
              "      <td>82</td>\n",
              "      <td>1</td>\n",
              "      <td>\"ford mustang gl\"</td>\n",
              "    </tr>\n",
              "    <tr>\n",
              "      <th>394</th>\n",
              "      <td>44.0</td>\n",
              "      <td>4</td>\n",
              "      <td>97.0</td>\n",
              "      <td>52.0</td>\n",
              "      <td>2130.0</td>\n",
              "      <td>24.6</td>\n",
              "      <td>82</td>\n",
              "      <td>2</td>\n",
              "      <td>\"vw pickup\"</td>\n",
              "    </tr>\n",
              "    <tr>\n",
              "      <th>395</th>\n",
              "      <td>32.0</td>\n",
              "      <td>4</td>\n",
              "      <td>135.0</td>\n",
              "      <td>84.0</td>\n",
              "      <td>2295.0</td>\n",
              "      <td>11.6</td>\n",
              "      <td>82</td>\n",
              "      <td>1</td>\n",
              "      <td>\"dodge rampage\"</td>\n",
              "    </tr>\n",
              "    <tr>\n",
              "      <th>396</th>\n",
              "      <td>28.0</td>\n",
              "      <td>4</td>\n",
              "      <td>120.0</td>\n",
              "      <td>79.0</td>\n",
              "      <td>2625.0</td>\n",
              "      <td>18.6</td>\n",
              "      <td>82</td>\n",
              "      <td>1</td>\n",
              "      <td>\"ford ranger\"</td>\n",
              "    </tr>\n",
              "    <tr>\n",
              "      <th>397</th>\n",
              "      <td>31.0</td>\n",
              "      <td>4</td>\n",
              "      <td>119.0</td>\n",
              "      <td>82.0</td>\n",
              "      <td>2720.0</td>\n",
              "      <td>19.4</td>\n",
              "      <td>82</td>\n",
              "      <td>1</td>\n",
              "      <td>\"chevy s-10\"</td>\n",
              "    </tr>\n",
              "  </tbody>\n",
              "</table>\n",
              "</div>"
            ],
            "text/plain": [
              "      mpg  cylinders  displacement  ...  model year  origin           car name\n",
              "393  27.0          4         140.0  ...          82       1  \"ford mustang gl\"\n",
              "394  44.0          4          97.0  ...          82       2        \"vw pickup\"\n",
              "395  32.0          4         135.0  ...          82       1    \"dodge rampage\"\n",
              "396  28.0          4         120.0  ...          82       1      \"ford ranger\"\n",
              "397  31.0          4         119.0  ...          82       1       \"chevy s-10\"\n",
              "\n",
              "[5 rows x 9 columns]"
            ]
          },
          "metadata": {},
          "execution_count": 24
        }
      ]
    },
    {
      "cell_type": "markdown",
      "metadata": {
        "id": "qPNJkcul2wj3"
      },
      "source": [
        "## Feature Engineering\n",
        "\n",
        "Create a new feature named \"company\" basing on \"car name\""
      ]
    },
    {
      "cell_type": "code",
      "metadata": {
        "execution": {
          "iopub.status.busy": "2021-10-18T15:35:24.365760Z",
          "iopub.execute_input": "2021-10-18T15:35:24.366392Z",
          "iopub.status.idle": "2021-10-18T15:35:24.403018Z",
          "shell.execute_reply.started": "2021-10-18T15:35:24.366319Z",
          "shell.execute_reply": "2021-10-18T15:35:24.402363Z"
        },
        "trusted": true,
        "colab": {
          "base_uri": "https://localhost:8080/",
          "height": 204
        },
        "id": "nIxwb9cl2wj3",
        "outputId": "45377a40-c5f5-49b1-912b-f6d40c8d4de8"
      },
      "source": [
        "# A dictionary of companies getting from a feature \"car name\"\n",
        "brands_dict = {\n",
        "    \"amc\": \"AMC\",\n",
        "    \"audi\": \"Audi\",\n",
        "    \"bmw\": \"Bmw\",\n",
        "    \"buick\": \"Buick\",\n",
        "    \"cadillac\": \"Cadillac\",\n",
        "    \"capri\": \"Capri\",\n",
        "    \"chevroelt\": \"Chevrolet\",\n",
        "    \"chevrolet\": \"Chevrolet\",\n",
        "    \"chevy\": \"Chevrolet\",\n",
        "    \"chrysler\": \"Chrysler\",\n",
        "    \"datsun\": \"Datsun\",\n",
        "    \"dodge\": \"Dodge\",\n",
        "    \"fiat\": \"Fiat\",\n",
        "    \"ford\": \"Ford\",\n",
        "    \"hi\": \"IH\",\n",
        "    \"honda\": \"Honda\",\n",
        "    \"maxda\": \"Mazda\",\n",
        "    \"mazda\": \"Mazda\",\n",
        "    \"mercedes\": \"Mercedes-Benz\",\n",
        "    \"mercedes-benz\": \"Mercedes-Benz\",\n",
        "    \"mercury\": \"Mercury\",\n",
        "    \"nissan\": \"Nissan\",\n",
        "    \"oldsmobile\": \"Oldsmobile\",\n",
        "    \"opel\": \"Opel\",\n",
        "    \"peugeot\": \"Peugeot\",\n",
        "    \"plymouth\": \"Plymouth\",\n",
        "    \"pontiac\": \"Pontiac\",\n",
        "    \"renault\": \"Renault\",\n",
        "    \"saab\": \"Saab\",\n",
        "    \"subaru\": \"Subaru\",\n",
        "    \"toyota\": \"Toyota\",\n",
        "    \"toyouta\": \"Toyota\",\n",
        "    \"triumph\": \"Triumph\",\n",
        "    \"vokswagen\": \"Volkswagen\",\n",
        "    \"volkswagen\": \"Volkswagen\",\n",
        "    \"volvo\": \"Volvo\",\n",
        "    \"vw\": \"Volkswagen\"\n",
        "}\n",
        "\n",
        "\n",
        "# Create a new feature named Company\n",
        "X[\"company\"] = [brands_dict[X[\"car name\"][i].replace('\"', '').split()[0]] for i in range(len(X[\"car name\"]))]\n",
        "X.tail()"
      ],
      "execution_count": 25,
      "outputs": [
        {
          "output_type": "execute_result",
          "data": {
            "text/html": [
              "<div>\n",
              "<style scoped>\n",
              "    .dataframe tbody tr th:only-of-type {\n",
              "        vertical-align: middle;\n",
              "    }\n",
              "\n",
              "    .dataframe tbody tr th {\n",
              "        vertical-align: top;\n",
              "    }\n",
              "\n",
              "    .dataframe thead th {\n",
              "        text-align: right;\n",
              "    }\n",
              "</style>\n",
              "<table border=\"1\" class=\"dataframe\">\n",
              "  <thead>\n",
              "    <tr style=\"text-align: right;\">\n",
              "      <th></th>\n",
              "      <th>mpg</th>\n",
              "      <th>cylinders</th>\n",
              "      <th>displacement</th>\n",
              "      <th>horsepower</th>\n",
              "      <th>weight</th>\n",
              "      <th>acceleration</th>\n",
              "      <th>model year</th>\n",
              "      <th>origin</th>\n",
              "      <th>car name</th>\n",
              "      <th>company</th>\n",
              "    </tr>\n",
              "  </thead>\n",
              "  <tbody>\n",
              "    <tr>\n",
              "      <th>393</th>\n",
              "      <td>27.0</td>\n",
              "      <td>4</td>\n",
              "      <td>140.0</td>\n",
              "      <td>86.0</td>\n",
              "      <td>2790.0</td>\n",
              "      <td>15.6</td>\n",
              "      <td>82</td>\n",
              "      <td>1</td>\n",
              "      <td>\"ford mustang gl\"</td>\n",
              "      <td>Ford</td>\n",
              "    </tr>\n",
              "    <tr>\n",
              "      <th>394</th>\n",
              "      <td>44.0</td>\n",
              "      <td>4</td>\n",
              "      <td>97.0</td>\n",
              "      <td>52.0</td>\n",
              "      <td>2130.0</td>\n",
              "      <td>24.6</td>\n",
              "      <td>82</td>\n",
              "      <td>2</td>\n",
              "      <td>\"vw pickup\"</td>\n",
              "      <td>Volkswagen</td>\n",
              "    </tr>\n",
              "    <tr>\n",
              "      <th>395</th>\n",
              "      <td>32.0</td>\n",
              "      <td>4</td>\n",
              "      <td>135.0</td>\n",
              "      <td>84.0</td>\n",
              "      <td>2295.0</td>\n",
              "      <td>11.6</td>\n",
              "      <td>82</td>\n",
              "      <td>1</td>\n",
              "      <td>\"dodge rampage\"</td>\n",
              "      <td>Dodge</td>\n",
              "    </tr>\n",
              "    <tr>\n",
              "      <th>396</th>\n",
              "      <td>28.0</td>\n",
              "      <td>4</td>\n",
              "      <td>120.0</td>\n",
              "      <td>79.0</td>\n",
              "      <td>2625.0</td>\n",
              "      <td>18.6</td>\n",
              "      <td>82</td>\n",
              "      <td>1</td>\n",
              "      <td>\"ford ranger\"</td>\n",
              "      <td>Ford</td>\n",
              "    </tr>\n",
              "    <tr>\n",
              "      <th>397</th>\n",
              "      <td>31.0</td>\n",
              "      <td>4</td>\n",
              "      <td>119.0</td>\n",
              "      <td>82.0</td>\n",
              "      <td>2720.0</td>\n",
              "      <td>19.4</td>\n",
              "      <td>82</td>\n",
              "      <td>1</td>\n",
              "      <td>\"chevy s-10\"</td>\n",
              "      <td>Chevrolet</td>\n",
              "    </tr>\n",
              "  </tbody>\n",
              "</table>\n",
              "</div>"
            ],
            "text/plain": [
              "      mpg  cylinders  displacement  ...  origin           car name     company\n",
              "393  27.0          4         140.0  ...       1  \"ford mustang gl\"        Ford\n",
              "394  44.0          4          97.0  ...       2        \"vw pickup\"  Volkswagen\n",
              "395  32.0          4         135.0  ...       1    \"dodge rampage\"       Dodge\n",
              "396  28.0          4         120.0  ...       1      \"ford ranger\"        Ford\n",
              "397  31.0          4         119.0  ...       1       \"chevy s-10\"   Chevrolet\n",
              "\n",
              "[5 rows x 10 columns]"
            ]
          },
          "metadata": {},
          "execution_count": 25
        }
      ]
    },
    {
      "cell_type": "markdown",
      "metadata": {
        "id": "AnXEVENp2wj4"
      },
      "source": [
        "## Data Correlation\n",
        "\n",
        "Correlation map to see how features are correlated with each other and with \"mpg\"."
      ]
    },
    {
      "cell_type": "code",
      "metadata": {
        "execution": {
          "iopub.status.busy": "2021-10-18T15:35:24.404100Z",
          "iopub.execute_input": "2021-10-18T15:35:24.404567Z",
          "iopub.status.idle": "2021-10-18T15:35:24.831332Z",
          "shell.execute_reply.started": "2021-10-18T15:35:24.404522Z",
          "shell.execute_reply": "2021-10-18T15:35:24.829983Z"
        },
        "trusted": true,
        "colab": {
          "base_uri": "https://localhost:8080/",
          "height": 612
        },
        "id": "oIGghMwT2wj4",
        "outputId": "52d60243-01f7-48b8-9a76-106cd3641d7b"
      },
      "source": [
        "corr_matrix = X_full.corr()\n",
        "plt.subplots(figsize=(12,9))\n",
        "sns.heatmap(corr_matrix, vmax=0.9, square=True)"
      ],
      "execution_count": 26,
      "outputs": [
        {
          "output_type": "execute_result",
          "data": {
            "text/plain": [
              "<matplotlib.axes._subplots.AxesSubplot at 0x7f03f6b4a5d0>"
            ]
          },
          "metadata": {},
          "execution_count": 26
        },
        {
          "output_type": "display_data",
          "data": {
            "image/png": "[encoded data removed]",
            "text/plain": [
              "<Figure size 864x648 with 2 Axes>"
            ]
          },
          "metadata": {
            "needs_background": "light"
          }
        }
      ]
    },
    {
      "cell_type": "markdown",
      "metadata": {
        "id": "u7dFAtRu2wj4"
      },
      "source": [
        "Look at some correlation values in a list format."
      ]
    },
    {
      "cell_type": "code",
      "metadata": {
        "execution": {
          "iopub.status.busy": "2021-10-18T15:35:24.832950Z",
          "iopub.execute_input": "2021-10-18T15:35:24.833313Z",
          "iopub.status.idle": "2021-10-18T15:35:24.843625Z",
          "shell.execute_reply.started": "2021-10-18T15:35:24.833265Z",
          "shell.execute_reply": "2021-10-18T15:35:24.842567Z"
        },
        "trusted": true,
        "colab": {
          "base_uri": "https://localhost:8080/"
        },
        "id": "bvNRMzNj2wj5",
        "outputId": "ff2c4cee-a5ef-43c8-dce0-b32a9ddb5217"
      },
      "source": [
        "print(corr_matrix[\"mpg\"].sort_values(ascending=False)[:5], '\\n')\n",
        "print(corr_matrix[\"mpg\"].sort_values(ascending=False)[-5:])"
      ],
      "execution_count": 27,
      "outputs": [
        {
          "output_type": "stream",
          "name": "stdout",
          "text": [
            "mpg             1.000000\n",
            "model year      0.579267\n",
            "origin          0.563450\n",
            "acceleration    0.420289\n",
            "cylinders      -0.775396\n",
            "Name: mpg, dtype: float64 \n",
            "\n",
            "acceleration    0.420289\n",
            "cylinders      -0.775396\n",
            "horsepower     -0.778427\n",
            "displacement   -0.804203\n",
            "weight         -0.831741\n",
            "Name: mpg, dtype: float64\n"
          ]
        }
      ]
    },
    {
      "cell_type": "markdown",
      "metadata": {
        "id": "R5w4K7hs2wj5"
      },
      "source": [
        "As we can see, the columns \"displacement\" and \"weight\" are strongly negatively correlated.\n",
        "\n",
        "We can guess if we predict the \"mpg\" value from given columns, the \"displacement\" and \"weight\" will predict better than others."
      ]
    },
    {
      "cell_type": "markdown",
      "metadata": {
        "id": "f_S6U96l2wj6"
      },
      "source": [
        "# Split features from labels\n",
        "\n",
        "Separate the target value—the \"label\"—from the features. This label is the value that you will train the model to predict."
      ]
    },
    {
      "cell_type": "code",
      "metadata": {
        "execution": {
          "iopub.status.busy": "2021-10-18T15:35:24.845510Z",
          "iopub.execute_input": "2021-10-18T15:35:24.845847Z",
          "iopub.status.idle": "2021-10-18T15:35:24.862178Z",
          "shell.execute_reply.started": "2021-10-18T15:35:24.845802Z",
          "shell.execute_reply": "2021-10-18T15:35:24.861056Z"
        },
        "trusted": true,
        "id": "a-Iq6qv12wj6"
      },
      "source": [
        "# Remove rows with missing target, separate target from predictors\n",
        "X.dropna(axis=0, subset=[\"mpg\"], inplace=True)\n",
        "\n",
        "y = X[\"mpg\"]\n",
        "X.drop([\"mpg\"], axis=1, inplace=True)"
      ],
      "execution_count": 28,
      "outputs": []
    },
    {
      "cell_type": "markdown",
      "metadata": {
        "id": "13nbbgAj2wj7"
      },
      "source": [
        "## Split the data into training and test sets\n",
        "\n",
        "Now, split the dataset into a training set and a test set. You will use the test set in the final evaluation of your models."
      ]
    },
    {
      "cell_type": "code",
      "metadata": {
        "execution": {
          "iopub.status.busy": "2021-10-18T15:35:24.863610Z",
          "iopub.execute_input": "2021-10-18T15:35:24.863951Z",
          "iopub.status.idle": "2021-10-18T15:35:24.872922Z",
          "shell.execute_reply.started": "2021-10-18T15:35:24.863906Z",
          "shell.execute_reply": "2021-10-18T15:35:24.872051Z"
        },
        "trusted": true,
        "id": "JxOLdgTc2wj7"
      },
      "source": [
        "from sklearn.model_selection import train_test_split\n",
        "\n",
        "X_train, X_valid, y_train, y_valid = train_test_split(X, y, train_size=0.8, test_size=0.2, random_state=1)"
      ],
      "execution_count": 29,
      "outputs": []
    },
    {
      "cell_type": "markdown",
      "metadata": {
        "id": "V3HyWOBp2wj7"
      },
      "source": [
        "## Clean tha data\n",
        "\n",
        "Identify columns with missing values"
      ]
    },
    {
      "cell_type": "code",
      "metadata": {
        "execution": {
          "iopub.status.busy": "2021-10-18T15:35:24.874381Z",
          "iopub.execute_input": "2021-10-18T15:35:24.875328Z",
          "iopub.status.idle": "2021-10-18T15:35:24.892379Z",
          "shell.execute_reply.started": "2021-10-18T15:35:24.875283Z",
          "shell.execute_reply": "2021-10-18T15:35:24.891387Z"
        },
        "trusted": true,
        "colab": {
          "base_uri": "https://localhost:8080/"
        },
        "id": "YC8RD76m2wj8",
        "outputId": "9a0e2ccb-a122-4ffc-990f-9fcc6834abba"
      },
      "source": [
        "print(X_train.isna().sum())\n",
        "print(X_valid.isna().sum())"
      ],
      "execution_count": 30,
      "outputs": [
        {
          "output_type": "stream",
          "name": "stdout",
          "text": [
            "cylinders       0\n",
            "displacement    0\n",
            "horsepower      6\n",
            "weight          0\n",
            "acceleration    0\n",
            "model year      0\n",
            "origin          0\n",
            "car name        0\n",
            "company         0\n",
            "dtype: int64\n",
            "cylinders       0\n",
            "displacement    0\n",
            "horsepower      0\n",
            "weight          0\n",
            "acceleration    0\n",
            "model year      0\n",
            "origin          0\n",
            "car name        0\n",
            "company         0\n",
            "dtype: int64\n"
          ]
        }
      ]
    },
    {
      "cell_type": "markdown",
      "metadata": {
        "id": "DOYBVfcJ2wj8"
      },
      "source": [
        "The column \"horsepower\" contains missing value.\n",
        "\n",
        "Use SimpleImputer to replace missing values with the mean value and create a new column name \"hp\"."
      ]
    },
    {
      "cell_type": "code",
      "metadata": {
        "execution": {
          "iopub.status.busy": "2021-10-18T15:35:24.893731Z",
          "iopub.execute_input": "2021-10-18T15:35:24.894344Z",
          "iopub.status.idle": "2021-10-18T15:35:24.913844Z",
          "shell.execute_reply.started": "2021-10-18T15:35:24.894305Z",
          "shell.execute_reply": "2021-10-18T15:35:24.912815Z"
        },
        "trusted": true,
        "id": "qu7hWGPY2wj8"
      },
      "source": [
        "from sklearn.impute import SimpleImputer\n",
        "\n",
        "# Imputation\n",
        "hp_imputer = SimpleImputer(missing_values=np.nan, strategy=\"mean\")\n",
        "imputed_hp_train = hp_imputer.fit(X_train[[\"horsepower\"]])\n",
        "imputed_hp_valid = hp_imputer.fit(X_valid[[\"horsepower\"]])\n",
        "\n",
        "# Put them back to X_train and X_valid dataframe\n",
        "X_train[\"hp\"] = imputed_hp_train.transform(X_train[[\"horsepower\"]]).ravel()\n",
        "X_valid[\"hp\"] = imputed_hp_valid.transform(X_valid[[\"horsepower\"]]).ravel()"
      ],
      "execution_count": 31,
      "outputs": []
    },
    {
      "cell_type": "code",
      "metadata": {
        "execution": {
          "iopub.status.busy": "2021-10-18T15:35:24.917803Z",
          "iopub.execute_input": "2021-10-18T15:35:24.918081Z",
          "iopub.status.idle": "2021-10-18T15:35:24.928702Z",
          "shell.execute_reply.started": "2021-10-18T15:35:24.918050Z",
          "shell.execute_reply": "2021-10-18T15:35:24.928004Z"
        },
        "trusted": true,
        "colab": {
          "base_uri": "https://localhost:8080/"
        },
        "id": "kGRiK8oP2wj9",
        "outputId": "f851c158-a653-4e69-e4e7-e6040edb028d"
      },
      "source": [
        "print(X_train.isna().sum())\n",
        "print(X_valid.isna().sum())"
      ],
      "execution_count": 32,
      "outputs": [
        {
          "output_type": "stream",
          "name": "stdout",
          "text": [
            "cylinders       0\n",
            "displacement    0\n",
            "horsepower      6\n",
            "weight          0\n",
            "acceleration    0\n",
            "model year      0\n",
            "origin          0\n",
            "car name        0\n",
            "company         0\n",
            "hp              0\n",
            "dtype: int64\n",
            "cylinders       0\n",
            "displacement    0\n",
            "horsepower      0\n",
            "weight          0\n",
            "acceleration    0\n",
            "model year      0\n",
            "origin          0\n",
            "car name        0\n",
            "company         0\n",
            "hp              0\n",
            "dtype: int64\n"
          ]
        }
      ]
    },
    {
      "cell_type": "markdown",
      "metadata": {
        "id": "xzilgoCl2wj9"
      },
      "source": [
        "The \"origin\" column is categorical, not numeric. \n",
        "\n",
        "So the next step is to one-hot encode the values in the column with OneHotEncoder class from scikit-learn."
      ]
    },
    {
      "cell_type": "code",
      "metadata": {
        "execution": {
          "iopub.status.busy": "2021-10-18T15:35:24.930027Z",
          "iopub.execute_input": "2021-10-18T15:35:24.930376Z",
          "iopub.status.idle": "2021-10-18T15:35:24.957817Z",
          "shell.execute_reply.started": "2021-10-18T15:35:24.930345Z",
          "shell.execute_reply": "2021-10-18T15:35:24.957179Z"
        },
        "trusted": true,
        "colab": {
          "base_uri": "https://localhost:8080/",
          "height": 204
        },
        "id": "uN-5HnZB2wj9",
        "outputId": "16dc89ce-8b45-4a3a-ddde-f41f1fc4f2ba"
      },
      "source": [
        "X_train.tail()"
      ],
      "execution_count": 33,
      "outputs": [
        {
          "output_type": "execute_result",
          "data": {
            "text/html": [
              "<div>\n",
              "<style scoped>\n",
              "    .dataframe tbody tr th:only-of-type {\n",
              "        vertical-align: middle;\n",
              "    }\n",
              "\n",
              "    .dataframe tbody tr th {\n",
              "        vertical-align: top;\n",
              "    }\n",
              "\n",
              "    .dataframe thead th {\n",
              "        text-align: right;\n",
              "    }\n",
              "</style>\n",
              "<table border=\"1\" class=\"dataframe\">\n",
              "  <thead>\n",
              "    <tr style=\"text-align: right;\">\n",
              "      <th></th>\n",
              "      <th>cylinders</th>\n",
              "      <th>displacement</th>\n",
              "      <th>horsepower</th>\n",
              "      <th>weight</th>\n",
              "      <th>acceleration</th>\n",
              "      <th>model year</th>\n",
              "      <th>origin</th>\n",
              "      <th>car name</th>\n",
              "      <th>company</th>\n",
              "      <th>hp</th>\n",
              "    </tr>\n",
              "  </thead>\n",
              "  <tbody>\n",
              "    <tr>\n",
              "      <th>393</th>\n",
              "      <td>4</td>\n",
              "      <td>140.0</td>\n",
              "      <td>86.0</td>\n",
              "      <td>2790.0</td>\n",
              "      <td>15.6</td>\n",
              "      <td>82</td>\n",
              "      <td>1</td>\n",
              "      <td>\"ford mustang gl\"</td>\n",
              "      <td>Ford</td>\n",
              "      <td>86.0</td>\n",
              "    </tr>\n",
              "    <tr>\n",
              "      <th>255</th>\n",
              "      <td>4</td>\n",
              "      <td>140.0</td>\n",
              "      <td>88.0</td>\n",
              "      <td>2720.0</td>\n",
              "      <td>15.4</td>\n",
              "      <td>78</td>\n",
              "      <td>1</td>\n",
              "      <td>\"ford fairmont (man)\"</td>\n",
              "      <td>Ford</td>\n",
              "      <td>88.0</td>\n",
              "    </tr>\n",
              "    <tr>\n",
              "      <th>72</th>\n",
              "      <td>8</td>\n",
              "      <td>304.0</td>\n",
              "      <td>150.0</td>\n",
              "      <td>3892.0</td>\n",
              "      <td>12.5</td>\n",
              "      <td>72</td>\n",
              "      <td>1</td>\n",
              "      <td>\"amc matador (sw)\"</td>\n",
              "      <td>AMC</td>\n",
              "      <td>150.0</td>\n",
              "    </tr>\n",
              "    <tr>\n",
              "      <th>235</th>\n",
              "      <td>4</td>\n",
              "      <td>97.0</td>\n",
              "      <td>75.0</td>\n",
              "      <td>2265.0</td>\n",
              "      <td>18.2</td>\n",
              "      <td>77</td>\n",
              "      <td>3</td>\n",
              "      <td>\"toyota corolla liftback\"</td>\n",
              "      <td>Toyota</td>\n",
              "      <td>75.0</td>\n",
              "    </tr>\n",
              "    <tr>\n",
              "      <th>37</th>\n",
              "      <td>6</td>\n",
              "      <td>232.0</td>\n",
              "      <td>100.0</td>\n",
              "      <td>3288.0</td>\n",
              "      <td>15.5</td>\n",
              "      <td>71</td>\n",
              "      <td>1</td>\n",
              "      <td>\"amc matador\"</td>\n",
              "      <td>AMC</td>\n",
              "      <td>100.0</td>\n",
              "    </tr>\n",
              "  </tbody>\n",
              "</table>\n",
              "</div>"
            ],
            "text/plain": [
              "     cylinders  displacement  ...  company     hp\n",
              "393          4         140.0  ...     Ford   86.0\n",
              "255          4         140.0  ...     Ford   88.0\n",
              "72           8         304.0  ...      AMC  150.0\n",
              "235          4          97.0  ...   Toyota   75.0\n",
              "37           6         232.0  ...      AMC  100.0\n",
              "\n",
              "[5 rows x 10 columns]"
            ]
          },
          "metadata": {},
          "execution_count": 33
        }
      ]
    },
    {
      "cell_type": "code",
      "metadata": {
        "execution": {
          "iopub.status.busy": "2021-10-18T15:35:24.958995Z",
          "iopub.execute_input": "2021-10-18T15:35:24.959930Z",
          "iopub.status.idle": "2021-10-18T15:35:24.976098Z",
          "shell.execute_reply.started": "2021-10-18T15:35:24.959876Z",
          "shell.execute_reply": "2021-10-18T15:35:24.975330Z"
        },
        "trusted": true,
        "id": "1NdOJsuS2wj-"
      },
      "source": [
        "from sklearn.preprocessing import OneHotEncoder\n",
        "\n",
        "# Apply one-hot encoder to each column with categorical data\n",
        "OH_encoder = OneHotEncoder(handle_unknown='ignore', sparse=False)\n",
        "OH_cols_train = pd.DataFrame(OH_encoder.fit_transform(X_train[[\"origin\"]]))\n",
        "OH_cols_valid = pd.DataFrame(OH_encoder.fit_transform(X_valid[[\"origin\"]]))\n",
        "\n",
        "# One-hot encoding removed index; put it back\n",
        "OH_cols_train.index = X_train.index\n",
        "OH_cols_valid.index = X_valid.index\n",
        "\n",
        "# Add one-hot encoded columns to numerical features\n",
        "X_train = pd.concat([X_train, OH_cols_train], axis=1)\n",
        "X_valid = pd.concat([X_valid, OH_cols_valid], axis=1)"
      ],
      "execution_count": 34,
      "outputs": []
    },
    {
      "cell_type": "code",
      "metadata": {
        "execution": {
          "iopub.status.busy": "2021-10-18T15:35:24.977193Z",
          "iopub.execute_input": "2021-10-18T15:35:24.977438Z",
          "iopub.status.idle": "2021-10-18T15:35:24.999498Z",
          "shell.execute_reply.started": "2021-10-18T15:35:24.977409Z",
          "shell.execute_reply": "2021-10-18T15:35:24.998810Z"
        },
        "trusted": true,
        "colab": {
          "base_uri": "https://localhost:8080/",
          "height": 204
        },
        "id": "9005rlIZ2wj-",
        "outputId": "824e765f-35f4-40ce-e52c-374294f31140"
      },
      "source": [
        "X_train.tail()"
      ],
      "execution_count": 35,
      "outputs": [
        {
          "output_type": "execute_result",
          "data": {
            "text/html": [
              "<div>\n",
              "<style scoped>\n",
              "    .dataframe tbody tr th:only-of-type {\n",
              "        vertical-align: middle;\n",
              "    }\n",
              "\n",
              "    .dataframe tbody tr th {\n",
              "        vertical-align: top;\n",
              "    }\n",
              "\n",
              "    .dataframe thead th {\n",
              "        text-align: right;\n",
              "    }\n",
              "</style>\n",
              "<table border=\"1\" class=\"dataframe\">\n",
              "  <thead>\n",
              "    <tr style=\"text-align: right;\">\n",
              "      <th></th>\n",
              "      <th>cylinders</th>\n",
              "      <th>displacement</th>\n",
              "      <th>horsepower</th>\n",
              "      <th>weight</th>\n",
              "      <th>acceleration</th>\n",
              "      <th>model year</th>\n",
              "      <th>origin</th>\n",
              "      <th>car name</th>\n",
              "      <th>company</th>\n",
              "      <th>hp</th>\n",
              "      <th>0</th>\n",
              "      <th>1</th>\n",
              "      <th>2</th>\n",
              "    </tr>\n",
              "  </thead>\n",
              "  <tbody>\n",
              "    <tr>\n",
              "      <th>393</th>\n",
              "      <td>4</td>\n",
              "      <td>140.0</td>\n",
              "      <td>86.0</td>\n",
              "      <td>2790.0</td>\n",
              "      <td>15.6</td>\n",
              "      <td>82</td>\n",
              "      <td>1</td>\n",
              "      <td>\"ford mustang gl\"</td>\n",
              "      <td>Ford</td>\n",
              "      <td>86.0</td>\n",
              "      <td>1.0</td>\n",
              "      <td>0.0</td>\n",
              "      <td>0.0</td>\n",
              "    </tr>\n",
              "    <tr>\n",
              "      <th>255</th>\n",
              "      <td>4</td>\n",
              "      <td>140.0</td>\n",
              "      <td>88.0</td>\n",
              "      <td>2720.0</td>\n",
              "      <td>15.4</td>\n",
              "      <td>78</td>\n",
              "      <td>1</td>\n",
              "      <td>\"ford fairmont (man)\"</td>\n",
              "      <td>Ford</td>\n",
              "      <td>88.0</td>\n",
              "      <td>1.0</td>\n",
              "      <td>0.0</td>\n",
              "      <td>0.0</td>\n",
              "    </tr>\n",
              "    <tr>\n",
              "      <th>72</th>\n",
              "      <td>8</td>\n",
              "      <td>304.0</td>\n",
              "      <td>150.0</td>\n",
              "      <td>3892.0</td>\n",
              "      <td>12.5</td>\n",
              "      <td>72</td>\n",
              "      <td>1</td>\n",
              "      <td>\"amc matador (sw)\"</td>\n",
              "      <td>AMC</td>\n",
              "      <td>150.0</td>\n",
              "      <td>1.0</td>\n",
              "      <td>0.0</td>\n",
              "      <td>0.0</td>\n",
              "    </tr>\n",
              "    <tr>\n",
              "      <th>235</th>\n",
              "      <td>4</td>\n",
              "      <td>97.0</td>\n",
              "      <td>75.0</td>\n",
              "      <td>2265.0</td>\n",
              "      <td>18.2</td>\n",
              "      <td>77</td>\n",
              "      <td>3</td>\n",
              "      <td>\"toyota corolla liftback\"</td>\n",
              "      <td>Toyota</td>\n",
              "      <td>75.0</td>\n",
              "      <td>0.0</td>\n",
              "      <td>0.0</td>\n",
              "      <td>1.0</td>\n",
              "    </tr>\n",
              "    <tr>\n",
              "      <th>37</th>\n",
              "      <td>6</td>\n",
              "      <td>232.0</td>\n",
              "      <td>100.0</td>\n",
              "      <td>3288.0</td>\n",
              "      <td>15.5</td>\n",
              "      <td>71</td>\n",
              "      <td>1</td>\n",
              "      <td>\"amc matador\"</td>\n",
              "      <td>AMC</td>\n",
              "      <td>100.0</td>\n",
              "      <td>1.0</td>\n",
              "      <td>0.0</td>\n",
              "      <td>0.0</td>\n",
              "    </tr>\n",
              "  </tbody>\n",
              "</table>\n",
              "</div>"
            ],
            "text/plain": [
              "     cylinders  displacement  horsepower  weight  ...     hp    0    1    2\n",
              "393          4         140.0        86.0  2790.0  ...   86.0  1.0  0.0  0.0\n",
              "255          4         140.0        88.0  2720.0  ...   88.0  1.0  0.0  0.0\n",
              "72           8         304.0       150.0  3892.0  ...  150.0  1.0  0.0  0.0\n",
              "235          4          97.0        75.0  2265.0  ...   75.0  0.0  0.0  1.0\n",
              "37           6         232.0       100.0  3288.0  ...  100.0  1.0  0.0  0.0\n",
              "\n",
              "[5 rows x 13 columns]"
            ]
          },
          "metadata": {},
          "execution_count": 35
        }
      ]
    },
    {
      "cell_type": "code",
      "metadata": {
        "execution": {
          "iopub.status.busy": "2021-10-18T15:35:25.000454Z",
          "iopub.execute_input": "2021-10-18T15:35:25.000711Z",
          "iopub.status.idle": "2021-10-18T15:35:25.028830Z",
          "shell.execute_reply.started": "2021-10-18T15:35:25.000670Z",
          "shell.execute_reply": "2021-10-18T15:35:25.028123Z"
        },
        "trusted": true,
        "colab": {
          "base_uri": "https://localhost:8080/",
          "height": 204
        },
        "id": "1mIEBtya2wj-",
        "outputId": "9a9548f4-19e1-478e-892f-54077ec9d243"
      },
      "source": [
        "X_valid.tail()"
      ],
      "execution_count": 36,
      "outputs": [
        {
          "output_type": "execute_result",
          "data": {
            "text/html": [
              "<div>\n",
              "<style scoped>\n",
              "    .dataframe tbody tr th:only-of-type {\n",
              "        vertical-align: middle;\n",
              "    }\n",
              "\n",
              "    .dataframe tbody tr th {\n",
              "        vertical-align: top;\n",
              "    }\n",
              "\n",
              "    .dataframe thead th {\n",
              "        text-align: right;\n",
              "    }\n",
              "</style>\n",
              "<table border=\"1\" class=\"dataframe\">\n",
              "  <thead>\n",
              "    <tr style=\"text-align: right;\">\n",
              "      <th></th>\n",
              "      <th>cylinders</th>\n",
              "      <th>displacement</th>\n",
              "      <th>horsepower</th>\n",
              "      <th>weight</th>\n",
              "      <th>acceleration</th>\n",
              "      <th>model year</th>\n",
              "      <th>origin</th>\n",
              "      <th>car name</th>\n",
              "      <th>company</th>\n",
              "      <th>hp</th>\n",
              "      <th>0</th>\n",
              "      <th>1</th>\n",
              "      <th>2</th>\n",
              "    </tr>\n",
              "  </thead>\n",
              "  <tbody>\n",
              "    <tr>\n",
              "      <th>146</th>\n",
              "      <td>4</td>\n",
              "      <td>90.0</td>\n",
              "      <td>75.0</td>\n",
              "      <td>2125.0</td>\n",
              "      <td>14.5</td>\n",
              "      <td>74</td>\n",
              "      <td>1</td>\n",
              "      <td>\"dodge colt\"</td>\n",
              "      <td>Dodge</td>\n",
              "      <td>75.0</td>\n",
              "      <td>1.0</td>\n",
              "      <td>0.0</td>\n",
              "      <td>0.0</td>\n",
              "    </tr>\n",
              "    <tr>\n",
              "      <th>327</th>\n",
              "      <td>5</td>\n",
              "      <td>121.0</td>\n",
              "      <td>67.0</td>\n",
              "      <td>2950.0</td>\n",
              "      <td>19.9</td>\n",
              "      <td>80</td>\n",
              "      <td>2</td>\n",
              "      <td>\"audi 5000s (diesel)\"</td>\n",
              "      <td>Audi</td>\n",
              "      <td>67.0</td>\n",
              "      <td>0.0</td>\n",
              "      <td>1.0</td>\n",
              "      <td>0.0</td>\n",
              "    </tr>\n",
              "    <tr>\n",
              "      <th>223</th>\n",
              "      <td>8</td>\n",
              "      <td>318.0</td>\n",
              "      <td>145.0</td>\n",
              "      <td>4140.0</td>\n",
              "      <td>13.7</td>\n",
              "      <td>77</td>\n",
              "      <td>1</td>\n",
              "      <td>\"dodge monaco brougham\"</td>\n",
              "      <td>Dodge</td>\n",
              "      <td>145.0</td>\n",
              "      <td>1.0</td>\n",
              "      <td>0.0</td>\n",
              "      <td>0.0</td>\n",
              "    </tr>\n",
              "    <tr>\n",
              "      <th>159</th>\n",
              "      <td>8</td>\n",
              "      <td>351.0</td>\n",
              "      <td>148.0</td>\n",
              "      <td>4657.0</td>\n",
              "      <td>13.5</td>\n",
              "      <td>75</td>\n",
              "      <td>1</td>\n",
              "      <td>\"ford ltd\"</td>\n",
              "      <td>Ford</td>\n",
              "      <td>148.0</td>\n",
              "      <td>1.0</td>\n",
              "      <td>0.0</td>\n",
              "      <td>0.0</td>\n",
              "    </tr>\n",
              "    <tr>\n",
              "      <th>23</th>\n",
              "      <td>4</td>\n",
              "      <td>121.0</td>\n",
              "      <td>113.0</td>\n",
              "      <td>2234.0</td>\n",
              "      <td>12.5</td>\n",
              "      <td>70</td>\n",
              "      <td>2</td>\n",
              "      <td>\"bmw 2002\"</td>\n",
              "      <td>Bmw</td>\n",
              "      <td>113.0</td>\n",
              "      <td>0.0</td>\n",
              "      <td>1.0</td>\n",
              "      <td>0.0</td>\n",
              "    </tr>\n",
              "  </tbody>\n",
              "</table>\n",
              "</div>"
            ],
            "text/plain": [
              "     cylinders  displacement  horsepower  weight  ...     hp    0    1    2\n",
              "146          4          90.0        75.0  2125.0  ...   75.0  1.0  0.0  0.0\n",
              "327          5         121.0        67.0  2950.0  ...   67.0  0.0  1.0  0.0\n",
              "223          8         318.0       145.0  4140.0  ...  145.0  1.0  0.0  0.0\n",
              "159          8         351.0       148.0  4657.0  ...  148.0  1.0  0.0  0.0\n",
              "23           4         121.0       113.0  2234.0  ...  113.0  0.0  1.0  0.0\n",
              "\n",
              "[5 rows x 13 columns]"
            ]
          },
          "metadata": {},
          "execution_count": 36
        }
      ]
    },
    {
      "cell_type": "markdown",
      "metadata": {
        "id": "sm2fsa012wj_"
      },
      "source": [
        "The \"company\" is a categorical variable with high cardinality.\n",
        "\n",
        "It is not wise to use one-hot encoding since it can create very high dimensionality, instead we will use Target-based Encoding."
      ]
    },
    {
      "cell_type": "code",
      "metadata": {
        "execution": {
          "iopub.status.busy": "2021-10-18T15:35:25.029772Z",
          "iopub.execute_input": "2021-10-18T15:35:25.029992Z",
          "iopub.status.idle": "2021-10-18T15:35:25.085981Z",
          "shell.execute_reply.started": "2021-10-18T15:35:25.029966Z",
          "shell.execute_reply": "2021-10-18T15:35:25.084871Z"
        },
        "trusted": true,
        "colab": {
          "base_uri": "https://localhost:8080/"
        },
        "id": "D7bLVefL2wj_",
        "outputId": "05ee5973-c1b9-49e8-a8f3-c84f43e3c8cb"
      },
      "source": [
        "from category_encoders import TargetEncoder\n",
        "\n",
        "encoder = TargetEncoder()\n",
        "encoded_comp_train = encoder.fit(X_train[[\"company\"]], y_train)\n",
        "encoded_comp_valid = encoder.fit(X_valid[[\"company\"]], y_valid)\n",
        "\n",
        "# Put them back to X_train and X_valid dataframe\n",
        "X_train[\"company_encode\"] = encoded_comp_train.transform(X_train[[\"company\"]])\n",
        "X_valid[\"company_encode\"] = encoded_comp_valid.transform(X_valid[[\"company\"]])"
      ],
      "execution_count": 37,
      "outputs": [
        {
          "output_type": "stream",
          "name": "stderr",
          "text": [
            "/usr/local/lib/python3.7/dist-packages/statsmodels/tools/_testing.py:19: FutureWarning: pandas.util.testing is deprecated. Use the functions in the public API at pandas.testing instead.\n",
            "  import pandas.util.testing as tm\n"
          ]
        }
      ]
    },
    {
      "cell_type": "code",
      "metadata": {
        "execution": {
          "iopub.status.busy": "2021-10-18T15:35:25.087279Z",
          "iopub.execute_input": "2021-10-18T15:35:25.087526Z",
          "iopub.status.idle": "2021-10-18T15:35:25.114471Z",
          "shell.execute_reply.started": "2021-10-18T15:35:25.087495Z",
          "shell.execute_reply": "2021-10-18T15:35:25.113662Z"
        },
        "trusted": true,
        "colab": {
          "base_uri": "https://localhost:8080/",
          "height": 204
        },
        "id": "6okIqrfw2wj_",
        "outputId": "97b9af55-6708-4581-8720-5d42fbe77e90"
      },
      "source": [
        "X_train.tail()"
      ],
      "execution_count": 38,
      "outputs": [
        {
          "output_type": "execute_result",
          "data": {
            "text/html": [
              "<div>\n",
              "<style scoped>\n",
              "    .dataframe tbody tr th:only-of-type {\n",
              "        vertical-align: middle;\n",
              "    }\n",
              "\n",
              "    .dataframe tbody tr th {\n",
              "        vertical-align: top;\n",
              "    }\n",
              "\n",
              "    .dataframe thead th {\n",
              "        text-align: right;\n",
              "    }\n",
              "</style>\n",
              "<table border=\"1\" class=\"dataframe\">\n",
              "  <thead>\n",
              "    <tr style=\"text-align: right;\">\n",
              "      <th></th>\n",
              "      <th>cylinders</th>\n",
              "      <th>displacement</th>\n",
              "      <th>horsepower</th>\n",
              "      <th>weight</th>\n",
              "      <th>acceleration</th>\n",
              "      <th>model year</th>\n",
              "      <th>origin</th>\n",
              "      <th>car name</th>\n",
              "      <th>company</th>\n",
              "      <th>hp</th>\n",
              "      <th>0</th>\n",
              "      <th>1</th>\n",
              "      <th>2</th>\n",
              "      <th>company_encode</th>\n",
              "    </tr>\n",
              "  </thead>\n",
              "  <tbody>\n",
              "    <tr>\n",
              "      <th>393</th>\n",
              "      <td>4</td>\n",
              "      <td>140.0</td>\n",
              "      <td>86.0</td>\n",
              "      <td>2790.0</td>\n",
              "      <td>15.6</td>\n",
              "      <td>82</td>\n",
              "      <td>1</td>\n",
              "      <td>\"ford mustang gl\"</td>\n",
              "      <td>Ford</td>\n",
              "      <td>86.0</td>\n",
              "      <td>1.0</td>\n",
              "      <td>0.0</td>\n",
              "      <td>0.0</td>\n",
              "      <td>17.830802</td>\n",
              "    </tr>\n",
              "    <tr>\n",
              "      <th>255</th>\n",
              "      <td>4</td>\n",
              "      <td>140.0</td>\n",
              "      <td>88.0</td>\n",
              "      <td>2720.0</td>\n",
              "      <td>15.4</td>\n",
              "      <td>78</td>\n",
              "      <td>1</td>\n",
              "      <td>\"ford fairmont (man)\"</td>\n",
              "      <td>Ford</td>\n",
              "      <td>88.0</td>\n",
              "      <td>1.0</td>\n",
              "      <td>0.0</td>\n",
              "      <td>0.0</td>\n",
              "      <td>17.830802</td>\n",
              "    </tr>\n",
              "    <tr>\n",
              "      <th>72</th>\n",
              "      <td>8</td>\n",
              "      <td>304.0</td>\n",
              "      <td>150.0</td>\n",
              "      <td>3892.0</td>\n",
              "      <td>12.5</td>\n",
              "      <td>72</td>\n",
              "      <td>1</td>\n",
              "      <td>\"amc matador (sw)\"</td>\n",
              "      <td>AMC</td>\n",
              "      <td>150.0</td>\n",
              "      <td>1.0</td>\n",
              "      <td>0.0</td>\n",
              "      <td>0.0</td>\n",
              "      <td>21.138468</td>\n",
              "    </tr>\n",
              "    <tr>\n",
              "      <th>235</th>\n",
              "      <td>4</td>\n",
              "      <td>97.0</td>\n",
              "      <td>75.0</td>\n",
              "      <td>2265.0</td>\n",
              "      <td>18.2</td>\n",
              "      <td>77</td>\n",
              "      <td>3</td>\n",
              "      <td>\"toyota corolla liftback\"</td>\n",
              "      <td>Toyota</td>\n",
              "      <td>75.0</td>\n",
              "      <td>0.0</td>\n",
              "      <td>0.0</td>\n",
              "      <td>1.0</td>\n",
              "      <td>32.961914</td>\n",
              "    </tr>\n",
              "    <tr>\n",
              "      <th>37</th>\n",
              "      <td>6</td>\n",
              "      <td>232.0</td>\n",
              "      <td>100.0</td>\n",
              "      <td>3288.0</td>\n",
              "      <td>15.5</td>\n",
              "      <td>71</td>\n",
              "      <td>1</td>\n",
              "      <td>\"amc matador\"</td>\n",
              "      <td>AMC</td>\n",
              "      <td>100.0</td>\n",
              "      <td>1.0</td>\n",
              "      <td>0.0</td>\n",
              "      <td>0.0</td>\n",
              "      <td>21.138468</td>\n",
              "    </tr>\n",
              "  </tbody>\n",
              "</table>\n",
              "</div>"
            ],
            "text/plain": [
              "     cylinders  displacement  horsepower  weight  ...    0    1    2 company_encode\n",
              "393          4         140.0        86.0  2790.0  ...  1.0  0.0  0.0      17.830802\n",
              "255          4         140.0        88.0  2720.0  ...  1.0  0.0  0.0      17.830802\n",
              "72           8         304.0       150.0  3892.0  ...  1.0  0.0  0.0      21.138468\n",
              "235          4          97.0        75.0  2265.0  ...  0.0  0.0  1.0      32.961914\n",
              "37           6         232.0       100.0  3288.0  ...  1.0  0.0  0.0      21.138468\n",
              "\n",
              "[5 rows x 14 columns]"
            ]
          },
          "metadata": {},
          "execution_count": 38
        }
      ]
    },
    {
      "cell_type": "code",
      "metadata": {
        "execution": {
          "iopub.status.busy": "2021-10-18T15:35:25.115593Z",
          "iopub.execute_input": "2021-10-18T15:35:25.115994Z",
          "iopub.status.idle": "2021-10-18T15:35:25.147054Z",
          "shell.execute_reply.started": "2021-10-18T15:35:25.115958Z",
          "shell.execute_reply": "2021-10-18T15:35:25.145839Z"
        },
        "trusted": true,
        "colab": {
          "base_uri": "https://localhost:8080/",
          "height": 204
        },
        "id": "LTf1Kpa72wkA",
        "outputId": "957fd114-080d-4042-b989-8230f01c6625"
      },
      "source": [
        "X_valid.tail()"
      ],
      "execution_count": 39,
      "outputs": [
        {
          "output_type": "execute_result",
          "data": {
            "text/html": [
              "<div>\n",
              "<style scoped>\n",
              "    .dataframe tbody tr th:only-of-type {\n",
              "        vertical-align: middle;\n",
              "    }\n",
              "\n",
              "    .dataframe tbody tr th {\n",
              "        vertical-align: top;\n",
              "    }\n",
              "\n",
              "    .dataframe thead th {\n",
              "        text-align: right;\n",
              "    }\n",
              "</style>\n",
              "<table border=\"1\" class=\"dataframe\">\n",
              "  <thead>\n",
              "    <tr style=\"text-align: right;\">\n",
              "      <th></th>\n",
              "      <th>cylinders</th>\n",
              "      <th>displacement</th>\n",
              "      <th>horsepower</th>\n",
              "      <th>weight</th>\n",
              "      <th>acceleration</th>\n",
              "      <th>model year</th>\n",
              "      <th>origin</th>\n",
              "      <th>car name</th>\n",
              "      <th>company</th>\n",
              "      <th>hp</th>\n",
              "      <th>0</th>\n",
              "      <th>1</th>\n",
              "      <th>2</th>\n",
              "      <th>company_encode</th>\n",
              "    </tr>\n",
              "  </thead>\n",
              "  <tbody>\n",
              "    <tr>\n",
              "      <th>146</th>\n",
              "      <td>4</td>\n",
              "      <td>90.0</td>\n",
              "      <td>75.0</td>\n",
              "      <td>2125.0</td>\n",
              "      <td>14.5</td>\n",
              "      <td>74</td>\n",
              "      <td>1</td>\n",
              "      <td>\"dodge colt\"</td>\n",
              "      <td>Dodge</td>\n",
              "      <td>75.0</td>\n",
              "      <td>1.0</td>\n",
              "      <td>0.0</td>\n",
              "      <td>0.0</td>\n",
              "      <td>26.254544</td>\n",
              "    </tr>\n",
              "    <tr>\n",
              "      <th>327</th>\n",
              "      <td>5</td>\n",
              "      <td>121.0</td>\n",
              "      <td>67.0</td>\n",
              "      <td>2950.0</td>\n",
              "      <td>19.9</td>\n",
              "      <td>80</td>\n",
              "      <td>2</td>\n",
              "      <td>\"audi 5000s (diesel)\"</td>\n",
              "      <td>Audi</td>\n",
              "      <td>67.0</td>\n",
              "      <td>0.0</td>\n",
              "      <td>1.0</td>\n",
              "      <td>0.0</td>\n",
              "      <td>26.975373</td>\n",
              "    </tr>\n",
              "    <tr>\n",
              "      <th>223</th>\n",
              "      <td>8</td>\n",
              "      <td>318.0</td>\n",
              "      <td>145.0</td>\n",
              "      <td>4140.0</td>\n",
              "      <td>13.7</td>\n",
              "      <td>77</td>\n",
              "      <td>1</td>\n",
              "      <td>\"dodge monaco brougham\"</td>\n",
              "      <td>Dodge</td>\n",
              "      <td>145.0</td>\n",
              "      <td>1.0</td>\n",
              "      <td>0.0</td>\n",
              "      <td>0.0</td>\n",
              "      <td>26.254544</td>\n",
              "    </tr>\n",
              "    <tr>\n",
              "      <th>159</th>\n",
              "      <td>8</td>\n",
              "      <td>351.0</td>\n",
              "      <td>148.0</td>\n",
              "      <td>4657.0</td>\n",
              "      <td>13.5</td>\n",
              "      <td>75</td>\n",
              "      <td>1</td>\n",
              "      <td>\"ford ltd\"</td>\n",
              "      <td>Ford</td>\n",
              "      <td>148.0</td>\n",
              "      <td>1.0</td>\n",
              "      <td>0.0</td>\n",
              "      <td>0.0</td>\n",
              "      <td>17.830802</td>\n",
              "    </tr>\n",
              "    <tr>\n",
              "      <th>23</th>\n",
              "      <td>4</td>\n",
              "      <td>121.0</td>\n",
              "      <td>113.0</td>\n",
              "      <td>2234.0</td>\n",
              "      <td>12.5</td>\n",
              "      <td>70</td>\n",
              "      <td>2</td>\n",
              "      <td>\"bmw 2002\"</td>\n",
              "      <td>Bmw</td>\n",
              "      <td>113.0</td>\n",
              "      <td>0.0</td>\n",
              "      <td>1.0</td>\n",
              "      <td>0.0</td>\n",
              "      <td>23.612504</td>\n",
              "    </tr>\n",
              "  </tbody>\n",
              "</table>\n",
              "</div>"
            ],
            "text/plain": [
              "     cylinders  displacement  horsepower  weight  ...    0    1    2 company_encode\n",
              "146          4          90.0        75.0  2125.0  ...  1.0  0.0  0.0      26.254544\n",
              "327          5         121.0        67.0  2950.0  ...  0.0  1.0  0.0      26.975373\n",
              "223          8         318.0       145.0  4140.0  ...  1.0  0.0  0.0      26.254544\n",
              "159          8         351.0       148.0  4657.0  ...  1.0  0.0  0.0      17.830802\n",
              "23           4         121.0       113.0  2234.0  ...  0.0  1.0  0.0      23.612504\n",
              "\n",
              "[5 rows x 14 columns]"
            ]
          },
          "metadata": {},
          "execution_count": 39
        }
      ]
    },
    {
      "cell_type": "markdown",
      "metadata": {
        "id": "xe2DPXho2wkA"
      },
      "source": [
        "## Select features we will use to train the model"
      ]
    },
    {
      "cell_type": "code",
      "metadata": {
        "execution": {
          "iopub.status.busy": "2021-10-18T15:35:25.148748Z",
          "iopub.execute_input": "2021-10-18T15:35:25.149281Z",
          "iopub.status.idle": "2021-10-18T15:35:25.174999Z",
          "shell.execute_reply.started": "2021-10-18T15:35:25.149233Z",
          "shell.execute_reply": "2021-10-18T15:35:25.174260Z"
        },
        "trusted": true,
        "colab": {
          "base_uri": "https://localhost:8080/",
          "height": 204
        },
        "id": "2alh4iZN2wkB",
        "outputId": "839f5690-c976-45ab-f8c8-10c6c9414277"
      },
      "source": [
        "features = [\"cylinders\", \"displacement\", \"weight\", \"acceleration\", \"model year\", \"hp\", 0, 1, 2, \"company_encode\"]\n",
        "X_train[features].tail()"
      ],
      "execution_count": 40,
      "outputs": [
        {
          "output_type": "execute_result",
          "data": {
            "text/html": [
              "<div>\n",
              "<style scoped>\n",
              "    .dataframe tbody tr th:only-of-type {\n",
              "        vertical-align: middle;\n",
              "    }\n",
              "\n",
              "    .dataframe tbody tr th {\n",
              "        vertical-align: top;\n",
              "    }\n",
              "\n",
              "    .dataframe thead th {\n",
              "        text-align: right;\n",
              "    }\n",
              "</style>\n",
              "<table border=\"1\" class=\"dataframe\">\n",
              "  <thead>\n",
              "    <tr style=\"text-align: right;\">\n",
              "      <th></th>\n",
              "      <th>cylinders</th>\n",
              "      <th>displacement</th>\n",
              "      <th>weight</th>\n",
              "      <th>acceleration</th>\n",
              "      <th>model year</th>\n",
              "      <th>hp</th>\n",
              "      <th>0</th>\n",
              "      <th>1</th>\n",
              "      <th>2</th>\n",
              "      <th>company_encode</th>\n",
              "    </tr>\n",
              "  </thead>\n",
              "  <tbody>\n",
              "    <tr>\n",
              "      <th>393</th>\n",
              "      <td>4</td>\n",
              "      <td>140.0</td>\n",
              "      <td>2790.0</td>\n",
              "      <td>15.6</td>\n",
              "      <td>82</td>\n",
              "      <td>86.0</td>\n",
              "      <td>1.0</td>\n",
              "      <td>0.0</td>\n",
              "      <td>0.0</td>\n",
              "      <td>17.830802</td>\n",
              "    </tr>\n",
              "    <tr>\n",
              "      <th>255</th>\n",
              "      <td>4</td>\n",
              "      <td>140.0</td>\n",
              "      <td>2720.0</td>\n",
              "      <td>15.4</td>\n",
              "      <td>78</td>\n",
              "      <td>88.0</td>\n",
              "      <td>1.0</td>\n",
              "      <td>0.0</td>\n",
              "      <td>0.0</td>\n",
              "      <td>17.830802</td>\n",
              "    </tr>\n",
              "    <tr>\n",
              "      <th>72</th>\n",
              "      <td>8</td>\n",
              "      <td>304.0</td>\n",
              "      <td>3892.0</td>\n",
              "      <td>12.5</td>\n",
              "      <td>72</td>\n",
              "      <td>150.0</td>\n",
              "      <td>1.0</td>\n",
              "      <td>0.0</td>\n",
              "      <td>0.0</td>\n",
              "      <td>21.138468</td>\n",
              "    </tr>\n",
              "    <tr>\n",
              "      <th>235</th>\n",
              "      <td>4</td>\n",
              "      <td>97.0</td>\n",
              "      <td>2265.0</td>\n",
              "      <td>18.2</td>\n",
              "      <td>77</td>\n",
              "      <td>75.0</td>\n",
              "      <td>0.0</td>\n",
              "      <td>0.0</td>\n",
              "      <td>1.0</td>\n",
              "      <td>32.961914</td>\n",
              "    </tr>\n",
              "    <tr>\n",
              "      <th>37</th>\n",
              "      <td>6</td>\n",
              "      <td>232.0</td>\n",
              "      <td>3288.0</td>\n",
              "      <td>15.5</td>\n",
              "      <td>71</td>\n",
              "      <td>100.0</td>\n",
              "      <td>1.0</td>\n",
              "      <td>0.0</td>\n",
              "      <td>0.0</td>\n",
              "      <td>21.138468</td>\n",
              "    </tr>\n",
              "  </tbody>\n",
              "</table>\n",
              "</div>"
            ],
            "text/plain": [
              "     cylinders  displacement  weight  ...    1    2  company_encode\n",
              "393          4         140.0  2790.0  ...  0.0  0.0       17.830802\n",
              "255          4         140.0  2720.0  ...  0.0  0.0       17.830802\n",
              "72           8         304.0  3892.0  ...  0.0  0.0       21.138468\n",
              "235          4          97.0  2265.0  ...  0.0  1.0       32.961914\n",
              "37           6         232.0  3288.0  ...  0.0  0.0       21.138468\n",
              "\n",
              "[5 rows x 10 columns]"
            ]
          },
          "metadata": {},
          "execution_count": 40
        }
      ]
    },
    {
      "cell_type": "markdown",
      "metadata": {
        "id": "AuVdu3jt2wkB"
      },
      "source": [
        "# Normalization\n",
        "\n",
        "It is good practice to normalize features that use different scales and ranges.\n",
        "\n",
        "The ```tf.keras.layers.Normalization``` is a clean and simple way to add feature normalization into your model."
      ]
    },
    {
      "cell_type": "markdown",
      "metadata": {
        "id": "mNNpgrIY2wkC"
      },
      "source": [
        "# Linear Regression\n",
        "\n",
        "## Linear regression with one variable\n",
        "\n",
        "Begin with a single-variable linear regression to predict \"mpg\" \n",
        "from \"cylinders\", \"displacement\", \"weight\", \"acceleration\", \"model year\", \"hp\", one by one."
      ]
    },
    {
      "cell_type": "code",
      "metadata": {
        "execution": {
          "iopub.status.busy": "2021-10-18T15:35:25.176538Z",
          "iopub.execute_input": "2021-10-18T15:35:25.177188Z",
          "iopub.status.idle": "2021-10-18T15:36:01.805877Z",
          "shell.execute_reply.started": "2021-10-18T15:35:25.177123Z",
          "shell.execute_reply": "2021-10-18T15:36:01.804982Z"
        },
        "trusted": true,
        "colab": {
          "base_uri": "https://localhost:8080/"
        },
        "id": "dz7ynp6Q2wkD",
        "outputId": "df47c9a8-7917-4c2f-a601-159813e00fe6"
      },
      "source": [
        "%%time\n",
        "def linear_regression_single(column):\n",
        "    # Create a numpy array made of the feature with column name \n",
        "    feature = np.array(X_train[column])\n",
        "    # Init the tf.keras.layers.Normalization\n",
        "    feature_normalizer = layers.Normalization(input_shape=[1,], axis=None)\n",
        "    # Fit the state of the preprocessing layer to the horsepower data\n",
        "    feature_normalizer.adapt(feature)\n",
        "    \n",
        "    # Build the Keras Sequential model\n",
        "    model = tf.keras.Sequential([\n",
        "        feature_normalizer,\n",
        "        layers.Dense(units=1)\n",
        "    ])\n",
        "    \n",
        "    # Configure the training procedure using the Keras Model.compile method\n",
        "    model.compile(\n",
        "        optimizer=tf.optimizers.Adam(learning_rate=0.1),\n",
        "        loss=\"mean_absolute_error\"\n",
        "    )\n",
        "\n",
        "    # Execute the training for 100 epochs\n",
        "    history = model.fit(\n",
        "        X_train[column], y_train, epochs=100, verbose=0, validation_split=0.2\n",
        "    )\n",
        "    print(\"Finish \", column)\n",
        "\n",
        "    return model, history\n",
        "\n",
        "test_results = {}\n",
        "for f in [\"cylinders\", \"displacement\", \"weight\", \"acceleration\", \"model year\", \"hp\", \"company_encode\"]:\n",
        "    feature_model, history = linear_regression_single(f)\n",
        "    test_results[f+\"_model\"] = feature_model.evaluate(\n",
        "        X_valid[f],\n",
        "        y_valid, verbose=0)"
      ],
      "execution_count": 41,
      "outputs": [
        {
          "output_type": "stream",
          "name": "stdout",
          "text": [
            "Finish  cylinders\n",
            "Finish  displacement\n",
            "Finish  weight\n",
            "Finish  acceleration\n",
            "Finish  model year\n",
            "Finish  hp\n",
            "Finish  company_encode\n",
            "CPU times: user 20.7 s, sys: 1.16 s, total: 21.8 s\n",
            "Wall time: 20.2 s\n"
          ]
        }
      ]
    },
    {
      "cell_type": "markdown",
      "metadata": {
        "id": "5CiBYVuZ2wkD"
      },
      "source": [
        "Back to our first assumption, the \"displacement\" and \"weight\" features have a better score than others."
      ]
    },
    {
      "cell_type": "code",
      "metadata": {
        "execution": {
          "iopub.status.busy": "2021-10-18T15:36:01.807525Z",
          "iopub.execute_input": "2021-10-18T15:36:01.808419Z",
          "iopub.status.idle": "2021-10-18T15:36:01.814887Z",
          "shell.execute_reply.started": "2021-10-18T15:36:01.808372Z",
          "shell.execute_reply": "2021-10-18T15:36:01.813943Z"
        },
        "trusted": true,
        "colab": {
          "base_uri": "https://localhost:8080/"
        },
        "id": "sOHSL_Dl2wkE",
        "outputId": "ae3b34bf-520c-4b08-fcd1-437d510e4ebf"
      },
      "source": [
        "test_results"
      ],
      "execution_count": 42,
      "outputs": [
        {
          "output_type": "execute_result",
          "data": {
            "text/plain": [
              "{'acceleration_model': 5.408997058868408,\n",
              " 'company_encode_model': 4.265753746032715,\n",
              " 'cylinders_model': 3.056208372116089,\n",
              " 'displacement_model': 2.8516335487365723,\n",
              " 'hp_model': 3.421321392059326,\n",
              " 'model year_model': 5.621662616729736,\n",
              " 'weight_model': 2.5719058513641357}"
            ]
          },
          "metadata": {},
          "execution_count": 42
        }
      ]
    },
    {
      "cell_type": "markdown",
      "metadata": {
        "id": "IAvqG66i2wkE"
      },
      "source": [
        "## Linear regression with multiple inputs"
      ]
    },
    {
      "cell_type": "code",
      "metadata": {
        "execution": {
          "iopub.status.busy": "2021-10-18T15:36:01.816257Z",
          "iopub.execute_input": "2021-10-18T15:36:01.816477Z",
          "iopub.status.idle": "2021-10-18T15:36:06.767037Z",
          "shell.execute_reply.started": "2021-10-18T15:36:01.816451Z",
          "shell.execute_reply": "2021-10-18T15:36:06.765959Z"
        },
        "trusted": true,
        "colab": {
          "base_uri": "https://localhost:8080/"
        },
        "id": "8Qz0uyuc2wkE",
        "outputId": "cef50cc3-e50f-422d-a6d8-7065fdb7e43b"
      },
      "source": [
        "%%time\n",
        "def linear_regression_multi(columns):\n",
        "    # Create a numpy array made of the feature with column name \n",
        "    features = np.array(X_train[columns])\n",
        "    # Create the tf.keras.layers.Normalization\n",
        "    features_normalizer = layers.Normalization(axis=-1)\n",
        "    # Fit the state of the preprocessing layer to the horsepower data\n",
        "    features_normalizer.adapt(features)\n",
        "    \n",
        "    # Build the Keras Sequential model\n",
        "    model = tf.keras.Sequential([\n",
        "        features_normalizer,\n",
        "        layers.Dense(units=1)\n",
        "    ])\n",
        "    \n",
        "    # Configure the training procedure using the Keras Model.compile method\n",
        "    model.compile(\n",
        "        optimizer=tf.optimizers.Adam(learning_rate=0.1),\n",
        "        loss=\"mean_absolute_error\"\n",
        "    )\n",
        "\n",
        "    # Execute the training for 100 epochs\n",
        "    history = model.fit(\n",
        "        X_train[columns], y_train, epochs=100, verbose=0, validation_split=0.2\n",
        "    )\n",
        "\n",
        "    return model, history\n",
        "\n",
        "\n",
        "multi_model, history = linear_regression_multi(features)                                                 \n",
        "test_results[\"multi_model\"] = multi_model.evaluate(\n",
        "    X_valid[features],\n",
        "    y_valid, verbose=0)"
      ],
      "execution_count": 43,
      "outputs": [
        {
          "output_type": "stream",
          "name": "stdout",
          "text": [
            "CPU times: user 3.31 s, sys: 143 ms, total: 3.46 s\n",
            "Wall time: 3.2 s\n"
          ]
        }
      ]
    },
    {
      "cell_type": "markdown",
      "metadata": {
        "id": "h4udoHwU2wkF"
      },
      "source": [
        "# Regression with a deep neural network (DNN)\n",
        "These models will contain a few more layers than the linear model:\n",
        "\n",
        "- The normalization layer, as before (with horsepower_normalizer for a single-input model and normalizer for a multiple-input model).\n",
        "\n",
        "- Two hidden, non-linear, Dense layers with the ReLU (relu) activation function nonlinearity.\n",
        "\n",
        "- A linear Dense single-output layer."
      ]
    },
    {
      "cell_type": "code",
      "metadata": {
        "execution": {
          "iopub.status.busy": "2021-10-18T15:36:06.769385Z",
          "iopub.execute_input": "2021-10-18T15:36:06.769726Z",
          "iopub.status.idle": "2021-10-18T15:36:12.577524Z",
          "shell.execute_reply.started": "2021-10-18T15:36:06.769679Z",
          "shell.execute_reply": "2021-10-18T15:36:12.576659Z"
        },
        "trusted": true,
        "colab": {
          "base_uri": "https://localhost:8080/"
        },
        "id": "YnesJyoJ2wkF",
        "outputId": "aa407ee5-bbb4-466f-ffd9-43b826b9f980"
      },
      "source": [
        "%%time\n",
        "def dnn_regression_multi(columns):\n",
        "    # Create a numpy array made of the feature with column name \n",
        "    features = np.array(X_train[columns])\n",
        "    # Create the tf.keras.layers.Normalization\n",
        "    features_normalizer = layers.Normalization(axis=-1)\n",
        "    # Fit the state of the preprocessing layer to the horsepower data\n",
        "    features_normalizer.adapt(features)\n",
        "    \n",
        "    # Build the Keras Sequential model\n",
        "    model = tf.keras.Sequential([\n",
        "        features_normalizer,\n",
        "        layers.Dense(64, activation='relu'),\n",
        "        layers.Dense(64, activation='relu'),        \n",
        "        layers.Dense(units=1)\n",
        "    ])\n",
        "    \n",
        "    # Configure the training procedure using the Keras Model.compile method\n",
        "    model.compile(\n",
        "        optimizer=tf.keras.optimizers.Adam(learning_rate=0.1),\n",
        "        loss=\"mean_absolute_error\"\n",
        "    )\n",
        "\n",
        "    # Execute the training for 100 epochs\n",
        "    history = model.fit(\n",
        "        X_train[columns], y_train, epochs=100, verbose=0, validation_split=0.2\n",
        "    )\n",
        "\n",
        "    return model, history\n",
        "\n",
        "\n",
        "dnn_model, history = dnn_regression_multi(features)                                                 \n",
        "test_results[\"dnn_model\"] = dnn_model.evaluate(\n",
        "    X_valid[features],\n",
        "    y_valid, verbose=0)"
      ],
      "execution_count": 44,
      "outputs": [
        {
          "output_type": "stream",
          "name": "stdout",
          "text": [
            "CPU times: user 3.68 s, sys: 212 ms, total: 3.89 s\n",
            "Wall time: 3.5 s\n"
          ]
        }
      ]
    },
    {
      "cell_type": "markdown",
      "metadata": {
        "id": "5xO3DpMw2wkG"
      },
      "source": [
        "# Performance\n",
        "\n",
        "Since all models have been trained, you can review their test set performance.\n",
        "\n",
        "The \"dnn_model\" has the highest score which indicates it the best model amongs the stars."
      ]
    },
    {
      "cell_type": "code",
      "metadata": {
        "execution": {
          "iopub.status.busy": "2021-10-18T15:36:12.579037Z",
          "iopub.execute_input": "2021-10-18T15:36:12.579849Z",
          "iopub.status.idle": "2021-10-18T15:36:12.591348Z",
          "shell.execute_reply.started": "2021-10-18T15:36:12.579808Z",
          "shell.execute_reply": "2021-10-18T15:36:12.590351Z"
        },
        "trusted": true,
        "colab": {
          "base_uri": "https://localhost:8080/",
          "height": 328
        },
        "id": "CnA681YP2wkG",
        "outputId": "87ffb749-05ae-45f7-b89f-698ff1086c04"
      },
      "source": [
        "pd.DataFrame(test_results, index=['Mean absolute error [mpg]']).T"
      ],
      "execution_count": 45,
      "outputs": [
        {
          "output_type": "execute_result",
          "data": {
            "text/html": [
              "<div>\n",
              "<style scoped>\n",
              "    .dataframe tbody tr th:only-of-type {\n",
              "        vertical-align: middle;\n",
              "    }\n",
              "\n",
              "    .dataframe tbody tr th {\n",
              "        vertical-align: top;\n",
              "    }\n",
              "\n",
              "    .dataframe thead th {\n",
              "        text-align: right;\n",
              "    }\n",
              "</style>\n",
              "<table border=\"1\" class=\"dataframe\">\n",
              "  <thead>\n",
              "    <tr style=\"text-align: right;\">\n",
              "      <th></th>\n",
              "      <th>Mean absolute error [mpg]</th>\n",
              "    </tr>\n",
              "  </thead>\n",
              "  <tbody>\n",
              "    <tr>\n",
              "      <th>cylinders_model</th>\n",
              "      <td>3.056208</td>\n",
              "    </tr>\n",
              "    <tr>\n",
              "      <th>displacement_model</th>\n",
              "      <td>2.851634</td>\n",
              "    </tr>\n",
              "    <tr>\n",
              "      <th>weight_model</th>\n",
              "      <td>2.571906</td>\n",
              "    </tr>\n",
              "    <tr>\n",
              "      <th>acceleration_model</th>\n",
              "      <td>5.408997</td>\n",
              "    </tr>\n",
              "    <tr>\n",
              "      <th>model year_model</th>\n",
              "      <td>5.621663</td>\n",
              "    </tr>\n",
              "    <tr>\n",
              "      <th>hp_model</th>\n",
              "      <td>3.421321</td>\n",
              "    </tr>\n",
              "    <tr>\n",
              "      <th>company_encode_model</th>\n",
              "      <td>4.265754</td>\n",
              "    </tr>\n",
              "    <tr>\n",
              "      <th>multi_model</th>\n",
              "      <td>2.082803</td>\n",
              "    </tr>\n",
              "    <tr>\n",
              "      <th>dnn_model</th>\n",
              "      <td>1.871473</td>\n",
              "    </tr>\n",
              "  </tbody>\n",
              "</table>\n",
              "</div>"
            ],
            "text/plain": [
              "                      Mean absolute error [mpg]\n",
              "cylinders_model                        3.056208\n",
              "displacement_model                     2.851634\n",
              "weight_model                           2.571906\n",
              "acceleration_model                     5.408997\n",
              "model year_model                       5.621663\n",
              "hp_model                               3.421321\n",
              "company_encode_model                   4.265754\n",
              "multi_model                            2.082803\n",
              "dnn_model                              1.871473"
            ]
          },
          "metadata": {},
          "execution_count": 45
        }
      ]
    },
    {
      "cell_type": "code",
      "metadata": {
        "execution": {
          "iopub.status.busy": "2021-10-18T15:36:12.592622Z",
          "iopub.execute_input": "2021-10-18T15:36:12.592866Z",
          "iopub.status.idle": "2021-10-18T15:36:12.950176Z",
          "shell.execute_reply.started": "2021-10-18T15:36:12.592835Z",
          "shell.execute_reply": "2021-10-18T15:36:12.949041Z"
        },
        "trusted": true,
        "colab": {
          "base_uri": "https://localhost:8080/",
          "height": 283
        },
        "id": "epsxRWHl2wkH",
        "outputId": "102359d0-9176-4744-efdf-c6f1a55b9dbc"
      },
      "source": [
        "predictions = dnn_model.predict(X_valid[features]).flatten()\n",
        "\n",
        "a = plt.axes(aspect='equal')\n",
        "plt.scatter(y_valid, predictions)\n",
        "plt.xlabel('True Values [MPG]')\n",
        "plt.ylabel('Predictions [MPG]')\n",
        "lims = [0, 50]\n",
        "plt.xlim(lims)\n",
        "plt.ylim(lims)\n",
        "_ = plt.plot(lims, lims)"
      ],
      "execution_count": 46,
      "outputs": [
        {
          "output_type": "display_data",
          "data": {
            "image/png": "[encoded data removed]",
            "text/plain": [
              "<Figure size 432x288 with 1 Axes>"
            ]
          },
          "metadata": {
            "needs_background": "light"
          }
        }
      ]
    },
    {
      "cell_type": "code",
      "metadata": {
        "execution": {
          "iopub.status.busy": "2021-10-18T15:36:12.951689Z",
          "iopub.execute_input": "2021-10-18T15:36:12.952020Z",
          "iopub.status.idle": "2021-10-18T15:36:13.243357Z",
          "shell.execute_reply.started": "2021-10-18T15:36:12.951979Z",
          "shell.execute_reply": "2021-10-18T15:36:13.242226Z"
        },
        "trusted": true,
        "colab": {
          "base_uri": "https://localhost:8080/",
          "height": 279
        },
        "id": "-rQtqGgl2wkH",
        "outputId": "6f4c4871-a9a3-4d7d-a1de-1dbef7338aae"
      },
      "source": [
        "error = predictions - y_valid\n",
        "plt.hist(error, bins=25)\n",
        "plt.xlabel('Prediction Error [MPG]')\n",
        "_ = plt.ylabel('Count')"
      ],
      "execution_count": 47,
      "outputs": [
        {
          "output_type": "display_data",
          "data": {
            "image/png": "[encoded data removed]",
            "text/plain": [
              "<Figure size 432x288 with 1 Axes>"
            ]
          },
          "metadata": {
            "needs_background": "light"
          }
        }
      ]
    },
    {
      "cell_type": "markdown",
      "metadata": {
        "id": "9DtQMHrr2wkH"
      },
      "source": [
        "### Save it for later use"
      ]
    },
    {
      "cell_type": "code",
      "metadata": {
        "execution": {
          "iopub.status.busy": "2021-10-18T15:36:13.244825Z",
          "iopub.execute_input": "2021-10-18T15:36:13.245159Z",
          "iopub.status.idle": "2021-10-18T15:36:14.026267Z",
          "shell.execute_reply.started": "2021-10-18T15:36:13.245101Z",
          "shell.execute_reply": "2021-10-18T15:36:14.025369Z"
        },
        "trusted": true,
        "colab": {
          "base_uri": "https://localhost:8080/"
        },
        "id": "W-kUVd8F2wkH",
        "outputId": "8e92ed5c-fd18-477b-d787-a9ed7ca7069d"
      },
      "source": [
        "dnn_model.save('dnn_model')"
      ],
      "execution_count": 48,
      "outputs": [
        {
          "output_type": "stream",
          "name": "stdout",
          "text": [
            "INFO:tensorflow:Assets written to: dnn_model/assets\n"
          ]
        }
      ]
    },
    {
      "cell_type": "markdown",
      "metadata": {
        "id": "DUr-FV4e2wkI"
      },
      "source": [
        "### Reload the model"
      ]
    },
    {
      "cell_type": "code",
      "metadata": {
        "execution": {
          "iopub.status.busy": "2021-10-18T15:36:14.028348Z",
          "iopub.execute_input": "2021-10-18T15:36:14.028576Z",
          "iopub.status.idle": "2021-10-18T15:36:14.520956Z",
          "shell.execute_reply.started": "2021-10-18T15:36:14.028548Z",
          "shell.execute_reply": "2021-10-18T15:36:14.520179Z"
        },
        "trusted": true,
        "colab": {
          "base_uri": "https://localhost:8080/",
          "height": 359
        },
        "id": "6OGsxBRI2wkI",
        "outputId": "7083d192-63d7-4530-a88a-4e297e90c6cc"
      },
      "source": [
        "reloaded = tf.keras.models.load_model('dnn_model')\n",
        "\n",
        "test_results['reloaded'] = reloaded.evaluate(\n",
        "    X_train[features], y_train, verbose=0)\n",
        "\n",
        "pd.DataFrame(test_results, index=['Mean absolute error [mpg]']).T"
      ],
      "execution_count": 49,
      "outputs": [
        {
          "output_type": "execute_result",
          "data": {
            "text/html": [
              "<div>\n",
              "<style scoped>\n",
              "    .dataframe tbody tr th:only-of-type {\n",
              "        vertical-align: middle;\n",
              "    }\n",
              "\n",
              "    .dataframe tbody tr th {\n",
              "        vertical-align: top;\n",
              "    }\n",
              "\n",
              "    .dataframe thead th {\n",
              "        text-align: right;\n",
              "    }\n",
              "</style>\n",
              "<table border=\"1\" class=\"dataframe\">\n",
              "  <thead>\n",
              "    <tr style=\"text-align: right;\">\n",
              "      <th></th>\n",
              "      <th>Mean absolute error [mpg]</th>\n",
              "    </tr>\n",
              "  </thead>\n",
              "  <tbody>\n",
              "    <tr>\n",
              "      <th>cylinders_model</th>\n",
              "      <td>3.056208</td>\n",
              "    </tr>\n",
              "    <tr>\n",
              "      <th>displacement_model</th>\n",
              "      <td>2.851634</td>\n",
              "    </tr>\n",
              "    <tr>\n",
              "      <th>weight_model</th>\n",
              "      <td>2.571906</td>\n",
              "    </tr>\n",
              "    <tr>\n",
              "      <th>acceleration_model</th>\n",
              "      <td>5.408997</td>\n",
              "    </tr>\n",
              "    <tr>\n",
              "      <th>model year_model</th>\n",
              "      <td>5.621663</td>\n",
              "    </tr>\n",
              "    <tr>\n",
              "      <th>hp_model</th>\n",
              "      <td>3.421321</td>\n",
              "    </tr>\n",
              "    <tr>\n",
              "      <th>company_encode_model</th>\n",
              "      <td>4.265754</td>\n",
              "    </tr>\n",
              "    <tr>\n",
              "      <th>multi_model</th>\n",
              "      <td>2.082803</td>\n",
              "    </tr>\n",
              "    <tr>\n",
              "      <th>dnn_model</th>\n",
              "      <td>1.871473</td>\n",
              "    </tr>\n",
              "    <tr>\n",
              "      <th>reloaded</th>\n",
              "      <td>1.762385</td>\n",
              "    </tr>\n",
              "  </tbody>\n",
              "</table>\n",
              "</div>"
            ],
            "text/plain": [
              "                      Mean absolute error [mpg]\n",
              "cylinders_model                        3.056208\n",
              "displacement_model                     2.851634\n",
              "weight_model                           2.571906\n",
              "acceleration_model                     5.408997\n",
              "model year_model                       5.621663\n",
              "hp_model                               3.421321\n",
              "company_encode_model                   4.265754\n",
              "multi_model                            2.082803\n",
              "dnn_model                              1.871473\n",
              "reloaded                               1.762385"
            ]
          },
          "metadata": {},
          "execution_count": 49
        }
      ]
    }
  ]
}